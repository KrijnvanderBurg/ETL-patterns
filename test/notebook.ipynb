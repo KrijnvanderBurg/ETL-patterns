{
 "cells": [
  {
   "cell_type": "code",
   "execution_count": 15,
   "metadata": {},
   "outputs": [
    {
     "name": "stderr",
     "output_type": "stream",
     "text": [
      "25/04/19 22:03:36 WARN CacheManager: Asked to cache already cached data.\n"
     ]
    },
    {
     "name": "stdout",
     "output_type": "stream",
     "text": [
      "+---------------+\n",
      "|_corrupt_record|\n",
      "+---------------+\n",
      "|   2,Janee,30.0|\n",
      "+---------------+\n",
      "\n",
      "+---+-----+---+---------------+\n",
      "| id| name|age|_corrupt_record|\n",
      "+---+-----+---+---------------+\n",
      "|  1| John| 25|           NULL|\n",
      "|  3|  Bob| 40|           NULL|\n",
      "|  4|Alice| 29|           NULL|\n",
      "+---+-----+---+---------------+\n",
      "\n"
     ]
    }
   ],
   "source": [
    "from pyspark.sql import SparkSession\n",
    "from pyspark.sql.types import StructType, StructField, IntegerType, StringType\n",
    "\n",
    "# Initialize Spark session\n",
    "spark = SparkSession.Builder() \\\n",
    "    .appName(\"PermissiveSchemaWithCorruptColumn\") \\\n",
    "    .getOrCreate()\n",
    "\n",
    "# Define a schema with a special column for corrupt records\n",
    "schema = StructType([\n",
    "    StructField(\"id\", IntegerType(), True),\n",
    "    StructField(\"name\", StringType(), True),\n",
    "    StructField(\"age\", IntegerType(), True),\n",
    "    StructField(\"_corrupt_record\", StringType(), True)  # Special column for corrupt records\n",
    "])\n",
    "\n",
    "# Read CSV file with the schema applied\n",
    "df = spark.read.format(\"csv\") \\\n",
    "    .option(\"header\", \"true\") \\\n",
    "    .schema(schema) \\\n",
    "    .option(\"mode\", \"PERMISSIVE\") \\\n",
    "    .load(\"./test/data/all.csv\")\n",
    "\n",
    "# Isolate the bad data into a separate dataframe\n",
    "bad_df = df.filter(df[\"_corrupt_record\"].isNotNull())\n",
    "bad_df = bad_df.select(\"_corrupt_record\").cache()  # Select only the corrupt record column\n",
    "bad_df.show()\n",
    "bad_df.write.format(\"text\").option(\"header\", \"true\").mode(\"overwrite\").save(\"./test/data/bad\")\n",
    "\n",
    "# Use exceptAll to avoid duplicates when adding new bad records\n",
    "good_df = df.filter(df[\"_corrupt_record\"].isNull())\n",
    "good_df.show()\n",
    "good_df.write.format(\"csv\").option(\"header\", \"true\").mode(\"overwrite\").save(\"./test/data/good\")"
   ]
  },
  {
   "cell_type": "code",
   "execution_count": null,
   "metadata": {},
   "outputs": [],
   "source": [
    "from pyspark.sql import SparkSession\n",
    "from pyspark.sql.types import StructType, StructField, IntegerType, StringType\n",
    "from pyspark.sql.functions import from_csv, col\n",
    "\n",
    "# Initialize Spark session\n",
    "spark = SparkSession.builder \\\n",
    "    .appName(\"ReprocessCorruptRecord\") \\\n",
    "    .getOrCreate()\n",
    "\n",
    "# Define the schema for parsing\n",
    "schema = StructType([\n",
    "    StructField(\"id\", IntegerType(), True),\n",
    "    StructField(\"name\", StringType(), True),\n",
    "    StructField(\"age\", IntegerType(), True)\n",
    "])\n",
    "\n",
    "# Input data simulating corrupt records\n",
    "data = [\n",
    "    (\"3\", \"Jane\", None, '2,Jane,30')  # _corrupt_record contains the original CSV row\n",
    "]\n",
    "\n",
    "# Define schema for the DataFrame\n",
    "schema_with_corrupt_record = StructType([\n",
    "    StructField(\"id\", StringType(), True),\n",
    "    StructField(\"name\", StringType(), True),\n",
    "    StructField(\"age\", StringType(), True),\n",
    "    StructField(\"_corrupt_record\", StringType(), True)\n",
    "])\n",
    "\n",
    "# Create DataFrame with explicit schema\n",
    "df = spark.createDataFrame(data, schema=schema_with_corrupt_record)\n",
    "\n",
    "# Parse the _corrupt_record column using the schema\n",
    "parsed_df = df.withColumn(\n",
    "    \"reprocessed\",\n",
    "    from_csv(col(\"_corrupt_record\"), schema)\n",
    ")\n",
    "\n",
    "# Show the results\n",
    "parsed_df.show(truncate=False)\n",
    "\n",
    "# Optionally, extract the parsed fields into separate columns\n",
    "final_df = parsed_df.select(\n",
    "    col(\"reprocessed.id\").alias(\"id\"),\n",
    "    col(\"reprocessed.name\").alias(\"name\"),\n",
    "    col(\"reprocessed.age\").alias(\"age\")\n",
    ")\n",
    "final_df.show()"
   ]
  },
  {
   "cell_type": "code",
   "execution_count": null,
   "metadata": {},
   "outputs": [],
   "source": []
  }
 ],
 "metadata": {
  "kernelspec": {
   "display_name": "Python 3",
   "language": "python",
   "name": "python3"
  },
  "language_info": {
   "codemirror_mode": {
    "name": "ipython",
    "version": 3
   },
   "file_extension": ".py",
   "mimetype": "text/x-python",
   "name": "python",
   "nbconvert_exporter": "python",
   "pygments_lexer": "ipython3",
   "version": "3.8.20"
  }
 },
 "nbformat": 4,
 "nbformat_minor": 2
}
