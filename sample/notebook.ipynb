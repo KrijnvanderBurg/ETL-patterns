{
 "cells": [
  {
   "cell_type": "markdown",
   "metadata": {},
   "source": [
    "# Sample Notebook with Auto Spark Connection\n",
    "\n",
    "This notebook demonstrates the automatic connection to Spark cluster.\n",
    "\n",
    "Note: The SparkSession is already initialized as the `spark` variable. You can use it directly."
   ]
  },
  {
   "cell_type": "code",
   "execution_count": 5,
   "metadata": {},
   "outputs": [
    {
     "name": "stdout",
     "output_type": "stream",
     "text": [
      "Connected to Spark version: 3.5.5\n",
      "Using 4 cores by default\n"
     ]
    }
   ],
   "source": [
    "# Verify Spark connection\n",
    "print(f\"Connected to Spark version: {spark.version}\")\n",
    "print(f\"Using {sc.defaultParallelism} cores by default\")"
   ]
  },
  {
   "cell_type": "code",
   "execution_count": null,
   "metadata": {},
   "outputs": [
    {
     "name": "stdout",
     "output_type": "stream",
     "text": [
      "Reading data...\n",
      "Show data:\n"
     ]
    },
    {
     "name": "stderr",
     "output_type": "stream",
     "text": [
      "                                                                                \r"
     ]
    },
    {
     "name": "stdout",
     "output_type": "stream",
     "text": [
      "+-----+---+--------+\n",
      "| name|age|  salary|\n",
      "+-----+---+--------+\n",
      "| John| 35| 75000.0|\n",
      "| Mary| 28| 82000.0|\n",
      "|Steve| 42| 95000.0|\n",
      "|Sarah| 31| 79000.0|\n",
      "|David| 45|110000.0|\n",
      "+-----+---+--------+\n",
      "\n"
     ]
    }
   ],
   "source": [
    "from pyspark.sql.types import StructType, StructField, StringType, IntegerType\n",
    "\n",
    "# Define schema\n",
    "schema = StructType([\n",
    "    StructField(\"name\", StringType(), False),\n",
    "    StructField(\"age\", IntegerType(), True),\n",
    "    StructField(\"salary\", IntegerType(), True)\n",
    "])\n",
    "\n",
    "print(\"Reading data...\")\n",
    "df = spark.read.schema(schema).option(\"header\", \"true\").csv(\"./sample/data.csv\")\n",
    "\n",
    "print(\"Show data:\")\n",
    "df.show()"
   ]
  }
 ],
 "metadata": {
  "kernelspec": {
   "display_name": "Python 3",
   "language": "python",
   "name": "python3"
  },
  "language_info": {
   "codemirror_mode": {
    "name": "ipython",
    "version": 3
   },
   "file_extension": ".py",
   "mimetype": "text/x-python",
   "name": "python",
   "nbconvert_exporter": "python",
   "pygments_lexer": "ipython3",
   "version": "3.11.12"
  }
 },
 "nbformat": 4,
 "nbformat_minor": 2
}
