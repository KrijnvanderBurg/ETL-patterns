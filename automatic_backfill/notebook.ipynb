{
 "cells": [
  {
   "cell_type": "code",
   "execution_count": 10,
   "metadata": {},
   "outputs": [],
   "source": [
    "from pyspark.sql import SparkSession\n",
    "\n",
    "# Initialize Spark session\n",
    "spark = SparkSession.Builder().appName(\"automatic backfill\").getOrCreate()"
   ]
  },
  {
   "cell_type": "code",
   "execution_count": 11,
   "metadata": {},
   "outputs": [],
   "source": [
    "from pyspark.sql.types import StructType, StructField, TimestampType, FloatType, StringType\n",
    "\n",
    "schema = StructType([\n",
    "    StructField(\"datetime\", TimestampType(), True),\n",
    "    StructField(\"temperature\", FloatType(), True),\n",
    "    StructField(\"humidity\", FloatType(), True),\n",
    "    StructField(\"file_path\", StringType(), True)\n",
    "])"
   ]
  },
  {
   "cell_type": "code",
   "execution_count": 12,
   "metadata": {},
   "outputs": [
    {
     "name": "stdout",
     "output_type": "stream",
     "text": [
      "+-------------------+-----------+--------+------------------------------------------------------------+\n",
      "|datetime           |temperature|humidity|file_path                                                   |\n",
      "+-------------------+-----------+--------+------------------------------------------------------------+\n",
      "|2025-05-01 00:00:00|18.5       |65.2    |file:///workspace/automatic_backfill/data/raw/2025-05-01.csv|\n",
      "|2025-05-01 01:00:00|17.9       |67.5    |file:///workspace/automatic_backfill/data/raw/2025-05-01.csv|\n",
      "|2025-05-01 02:00:00|17.2       |69.8    |file:///workspace/automatic_backfill/data/raw/2025-05-01.csv|\n",
      "|2025-05-01 03:00:00|16.8       |71.0    |file:///workspace/automatic_backfill/data/raw/2025-05-01.csv|\n",
      "|2025-05-01 04:00:00|16.5       |72.3    |file:///workspace/automatic_backfill/data/raw/2025-05-01.csv|\n",
      "+-------------------+-----------+--------+------------------------------------------------------------+\n",
      "only showing top 5 rows\n",
      "\n"
     ]
    }
   ],
   "source": [
    "from pyspark.sql.functions import input_file_name\n",
    "\n",
    "# Read all raw incoming CSV files from the directory\n",
    "raw_df = spark.read.option(\"header\", \"true\").schema(schema).csv(\"./automatic_backfill/data/raw/*.csv\")\n",
    "\n",
    "# Add respective file path to each row\n",
    "raw_df = raw_df.withColumn(\"file_path\", input_file_name())\n",
    "\n",
    "# Show the raw data\n",
    "raw_df.show(5, truncate=False)"
   ]
  },
  {
   "cell_type": "code",
   "execution_count": 13,
   "metadata": {},
   "outputs": [
    {
     "name": "stdout",
     "output_type": "stream",
     "text": [
      "+------------------------------------------------------------+\n",
      "|file_path                                                   |\n",
      "+------------------------------------------------------------+\n",
      "|file:///workspace/automatic_backfill/data/raw/2025-05-03.csv|\n",
      "|file:///workspace/automatic_backfill/data/raw/2025-05-01.csv|\n",
      "+------------------------------------------------------------+\n",
      "\n"
     ]
    }
   ],
   "source": [
    "# Read all bronze CSV files\n",
    "bronze_df = spark.read.csv(\"./automatic_backfill/data/bronze/\", header=True, schema=schema)\n",
    "\n",
    "# Get distinct file paths\n",
    "bronze_df = bronze_df.select(\"file_path\").distinct()\n",
    "\n",
    "bronze_df.show(truncate=False)"
   ]
  },
  {
   "cell_type": "code",
   "execution_count": 14,
   "metadata": {},
   "outputs": [],
   "source": [
    "# df.write.mode(\"overwrite\").csv(\"./automatic_backfill/data/bronze/\")"
   ]
  },
  {
   "cell_type": "code",
   "execution_count": null,
   "metadata": {},
   "outputs": [],
   "source": []
  }
 ],
 "metadata": {
  "kernelspec": {
   "display_name": "Python 3",
   "language": "python",
   "name": "python3"
  },
  "language_info": {
   "codemirror_mode": {
    "name": "ipython",
    "version": 3
   },
   "file_extension": ".py",
   "mimetype": "text/x-python",
   "name": "python",
   "nbconvert_exporter": "python",
   "pygments_lexer": "ipython3",
   "version": "3.11.12"
  }
 },
 "nbformat": 4,
 "nbformat_minor": 2
}
